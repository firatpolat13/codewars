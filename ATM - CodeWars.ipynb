{
 "cells": [
  {
   "cell_type": "markdown",
   "metadata": {},
   "source": [
    "Description:\n",
    "\n",
    "There is enough money available on ATM in nominal value 10, 20, 50, 100, 200 and 500 dollars.\n",
    "\n",
    "You are given money in nominal value of n with 1<=n<=1500.\n",
    "\n",
    "Try to find minimal number of notes that must be used to repay in dollars, or output -1 if it is impossible.\n",
    "\n",
    "Good Luck!!!\n"
   ]
  },
  {
   "cell_type": "code",
   "execution_count": 1,
   "metadata": {},
   "outputs": [],
   "source": [
    "def solve(n):\n",
    "    count = 0\n",
    "    if n % 10 != 0:\n",
    "        return -1\n",
    "    else:\n",
    "        while n > 0:\n",
    "            if n >= 500:\n",
    "                n -= 500\n",
    "                count += 1\n",
    "            elif n >= 200:\n",
    "                n -= 200\n",
    "                count += 1\n",
    "            elif n >= 100:\n",
    "                n -= 100\n",
    "                count += 1\n",
    "            elif n >= 50:\n",
    "                n -= 50\n",
    "                count += 1\n",
    "            elif n >= 20:\n",
    "                n -= 20\n",
    "                count += 1\n",
    "            elif n >= 10:\n",
    "                n -= 10\n",
    "                count += 1\n",
    "            elif n == 10:\n",
    "                break\n",
    "        return count"
   ]
  },
  {
   "cell_type": "code",
   "execution_count": 2,
   "metadata": {},
   "outputs": [
    {
     "data": {
      "text/plain": [
       "4"
      ]
     },
     "execution_count": 2,
     "metadata": {},
     "output_type": "execute_result"
    }
   ],
   "source": [
    "solve(1250)"
   ]
  },
  {
   "cell_type": "code",
   "execution_count": null,
   "metadata": {},
   "outputs": [],
   "source": []
  }
 ],
 "metadata": {
  "kernelspec": {
   "display_name": "Python 3",
   "language": "python",
   "name": "python3"
  },
  "language_info": {
   "codemirror_mode": {
    "name": "ipython",
    "version": 3
   },
   "file_extension": ".py",
   "mimetype": "text/x-python",
   "name": "python",
   "nbconvert_exporter": "python",
   "pygments_lexer": "ipython3",
   "version": "3.7.4"
  }
 },
 "nbformat": 4,
 "nbformat_minor": 2
}
