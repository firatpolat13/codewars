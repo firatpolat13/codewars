{
 "cells": [
  {
   "cell_type": "markdown",
   "metadata": {},
   "source": [
    "# Ball Upwards\n",
    "You throw a ball vertically upwards with an initial speed v (in km per hour). The height h of the ball at each time t is given by h = v*t - 0.5*g*t*t where g is Earth's gravity (g ~ 9.81 m/s**2). A device is recording at every tenth of second the height of the ball. For example with v = 15 km/h the device gets something of the following form: (0, 0.0), (1, 0.367...), (2, 0.637...), (3, 0.808...), (4, 0.881..) ... where the first number is the time in tenth of second and the second number the height in meter.\n",
    "Task\n",
    "\n",
    "Write a function max_ball with parameter v (in km per hour) that returns the time in tenth of second of the maximum height recorded by the device.\n",
    "Examples:\n",
    "\n",
    "max_ball(15) should return 4\n",
    "\n",
    "max_ball(25) should return 7\n",
    "Notes\n",
    "\n",
    "    Remember to convert the velocity from km/h to m/s or from m/s in km/h when necessary.\n",
    "    The maximum height recorded by the device is not necessarily the maximum height reached by the ball.\n"
   ]
  },
  {
   "cell_type": "code",
   "execution_count": 1,
   "metadata": {},
   "outputs": [],
   "source": [
    "def max_ball(v0):\n",
    "    v=v0/36\n",
    "    g = 0.0981\n",
    "    hmax=0\n",
    "    for t in range(100):     \n",
    "        h = v*t- 0.5*g*t*t\n",
    "        if h - hmax < 0:\n",
    "            break\n",
    "        hmax = h\n",
    "        print(t,hmax)\n",
    "    return t-1"
   ]
  },
  {
   "cell_type": "code",
   "execution_count": null,
   "metadata": {},
   "outputs": [],
   "source": []
  }
 ],
 "metadata": {
  "kernelspec": {
   "display_name": "Python 3",
   "language": "python",
   "name": "python3"
  },
  "language_info": {
   "codemirror_mode": {
    "name": "ipython",
    "version": 3
   },
   "file_extension": ".py",
   "mimetype": "text/x-python",
   "name": "python",
   "nbconvert_exporter": "python",
   "pygments_lexer": "ipython3",
   "version": "3.6.5"
  }
 },
 "nbformat": 4,
 "nbformat_minor": 2
}
