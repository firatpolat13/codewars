{
 "cells": [
  {
   "cell_type": "markdown",
   "metadata": {},
   "source": [
    "# Count the smiley faces!\n",
    "Description:\n",
    "Given an array (arr) as an argument complete the function countSmileys that should return the total number of smiling faces.\n",
    "Rules for a smiling face:\n",
    "-Each smiley face must contain a valid pair of eyes. Eyes can be marked as : or ;\n",
    "-A smiley face can have a nose but it does not have to. Valid characters for a nose are - or ~\n",
    "-Every smiling face must have a smiling mouth that should be marked with either ) or D.\n",
    "No additional characters are allowed except for those mentioned.\n",
    "Valid smiley face examples:\n",
    ":) :D ;-D :~)\n",
    "Invalid smiley faces:\n",
    ";( :> :} :]\n",
    "\n",
    "Example cases:\n",
    "\n",
    "countSmileys([':)', ';(', ';}', ':-D']);       // should return 2;\n",
    "countSmileys([';D', ':-(', ':-)', ';~)']);     // should return 3;\n",
    "countSmileys([';]', ':[', ';*', ':$', ';-D']); // should return 1;"
   ]
  },
  {
   "cell_type": "code",
   "execution_count": 1,
   "metadata": {},
   "outputs": [],
   "source": [
    "def count_smileys(arr):\n",
    "    count = 0\n",
    "    for char in arr:\n",
    "        if \"o\" in char:\n",
    "            count = count +0\n",
    "        elif \":\" and \"D\" in char:\n",
    "            count = count +1\n",
    "            print (char)\n",
    "        elif \":\" and \")\" in char:\n",
    "            count += 1\n",
    "        elif \";\" and \"D\" in char:\n",
    "            count+=1\n",
    "        elif \";\" and \")\" in char:\n",
    "            count +=1\n",
    "    return count"
   ]
  }
 ],
 "metadata": {
  "kernelspec": {
   "display_name": "Python 3",
   "language": "python",
   "name": "python3"
  },
  "language_info": {
   "codemirror_mode": {
    "name": "ipython",
    "version": 3
   },
   "file_extension": ".py",
   "mimetype": "text/x-python",
   "name": "python",
   "nbconvert_exporter": "python",
   "pygments_lexer": "ipython3",
   "version": "3.6.5"
  }
 },
 "nbformat": 4,
 "nbformat_minor": 2
}
