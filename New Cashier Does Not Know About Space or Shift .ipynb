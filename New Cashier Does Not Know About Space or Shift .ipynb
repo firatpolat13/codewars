{
 "cells": [
  {
   "cell_type": "markdown",
   "metadata": {},
   "source": [
    "Some new cashiers started to work at your restaurant.\n",
    "\n",
    "They are good at taking orders, but they don't know how to capitalize words, or use a space bar!\n",
    "\n",
    "All the orders they create look something like this:\n",
    "\n",
    "\"milkshakepizzachickenfriescokeburgerpizzasandwichmilkshakepizza\"\n",
    "\n",
    "The kitchen staff are threatening to quit, because of how difficult it is to read the orders.\n",
    "\n",
    "Their preference is to get the orders as a nice clean string with spaces and capitals like so:\n",
    "\n",
    "\"Burger Fries Chicken Pizza Pizza Pizza Sandwich Milkshake Milkshake Coke\"\n",
    "\n",
    "The kitchen staff expect the items to be in the same order as they appear in the menu.\n",
    "\n",
    "The menu items are fairly simple, there is no overlap in the names of the items:\n",
    "\n",
    "1. Burger\n",
    "2. Fries\n",
    "3. Chicken\n",
    "4. Pizza\n",
    "5. Sandwich\n",
    "6. Onionrings\n",
    "7. Milkshake\n",
    "8. Coke"
   ]
  },
  {
   "cell_type": "code",
   "execution_count": 1,
   "metadata": {},
   "outputs": [],
   "source": [
    "def get_order(order):\n",
    "    food_list = [\"burger\", \"fries\", \"chicken\", \"pizza\", \"sandwich\", \"onionrings\", \"milkshake\", \"coke\"]\n",
    "    order1 = \"\"\n",
    "    for i in range(len(food_list)):\n",
    "        if food_list[i] in order:\n",
    "            quantity = order.count(food_list[i])\n",
    "            for k in range(quantity):\n",
    "                order1 += (food_list[i].capitalize()) + \" \"\n",
    "    return order1[:len(order1)-1]"
   ]
  },
  {
   "cell_type": "code",
   "execution_count": 2,
   "metadata": {},
   "outputs": [
    {
     "data": {
      "text/plain": [
       "'Burger Fries Chicken Pizza Pizza Pizza Sandwich Milkshake Milkshake Coke'"
      ]
     },
     "execution_count": 2,
     "metadata": {},
     "output_type": "execute_result"
    }
   ],
   "source": [
    "get_order(\"milkshakepizzachickenfriescokeburgerpizzasandwichmilkshakepizza\")"
   ]
  },
  {
   "cell_type": "code",
   "execution_count": 3,
   "metadata": {},
   "outputs": [
    {
     "data": {
      "text/plain": [
       "'Burger Fries Fries Chicken Pizza Sandwich Milkshake Coke'"
      ]
     },
     "execution_count": 3,
     "metadata": {},
     "output_type": "execute_result"
    }
   ],
   "source": [
    "get_order(\"pizzachickenfriesburgercokemilkshakefriessandwich\")"
   ]
  },
  {
   "cell_type": "code",
   "execution_count": null,
   "metadata": {},
   "outputs": [],
   "source": []
  }
 ],
 "metadata": {
  "kernelspec": {
   "display_name": "Python 3",
   "language": "python",
   "name": "python3"
  },
  "language_info": {
   "codemirror_mode": {
    "name": "ipython",
    "version": 3
   },
   "file_extension": ".py",
   "mimetype": "text/x-python",
   "name": "python",
   "nbconvert_exporter": "python",
   "pygments_lexer": "ipython3",
   "version": "3.7.4"
  }
 },
 "nbformat": 4,
 "nbformat_minor": 2
}
