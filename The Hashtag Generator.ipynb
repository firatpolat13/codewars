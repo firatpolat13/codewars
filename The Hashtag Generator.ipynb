{
 "cells": [
  {
   "cell_type": "markdown",
   "metadata": {},
   "source": [
    "# The Hashtag Generator"
   ]
  },
  {
   "cell_type": "markdown",
   "metadata": {},
   "source": [
    "The marketing team is spending way too much time typing in hashtags.\n",
    "Let's help them with our own Hashtag Generator!\n",
    "\n",
    "Here's the deal:\n",
    "\n",
    "    It must start with a hashtag (#).\n",
    "    All words must have their first letter capitalized.\n",
    "    If the final result is longer than 140 chars it must return false.\n",
    "    If the input or the result is an empty string it must return false.\n",
    "\n",
    "Examples\n",
    "\n",
    "\" Hello there thanks for trying my Kata\"  =>  \"#HelloThereThanksForTryingMyKata\"\n",
    "\"    Hello     World   \"                  =>  \"#HelloWorld\"\n",
    "\"\"                                        =>  false"
   ]
  },
  {
   "cell_type": "code",
   "execution_count": 1,
   "metadata": {},
   "outputs": [],
   "source": [
    "def generate_hashtag(s):\n",
    "    s1 = s.split()\n",
    "    size = len(s1)\n",
    "    new=\"\"\n",
    "    for i in range(0,size):\n",
    "        new= new + s1[i][0].upper() + s1[i][1:].lower()\n",
    "    newest=\"#\"+new\n",
    "    if len(newest)>139:\n",
    "        newest = False\n",
    "    elif len(newest) == 1:\n",
    "        newest = False\n",
    "    return newest"
   ]
  },
  {
   "cell_type": "code",
   "execution_count": 2,
   "metadata": {},
   "outputs": [
    {
     "data": {
      "text/plain": [
       "'#HelloThereThanksForTryingMyKata'"
      ]
     },
     "execution_count": 2,
     "metadata": {},
     "output_type": "execute_result"
    }
   ],
   "source": [
    "generate_hashtag(\" Hello there thanks for trying my Kata\")"
   ]
  },
  {
   "cell_type": "code",
   "execution_count": null,
   "metadata": {},
   "outputs": [],
   "source": []
  }
 ],
 "metadata": {
  "kernelspec": {
   "display_name": "Python 3",
   "language": "python",
   "name": "python3"
  },
  "language_info": {
   "codemirror_mode": {
    "name": "ipython",
    "version": 3
   },
   "file_extension": ".py",
   "mimetype": "text/x-python",
   "name": "python",
   "nbconvert_exporter": "python",
   "pygments_lexer": "ipython3",
   "version": "3.6.5"
  }
 },
 "nbformat": 4,
 "nbformat_minor": 2
}
