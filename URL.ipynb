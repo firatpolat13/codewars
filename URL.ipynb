{
 "cells": [
  {
   "cell_type": "markdown",
   "metadata": {},
   "source": [
    "# Extract the domain name from a URL\n",
    "\n",
    "Write a function that when given a URL as a string, parses out just the domain name and returns it as a string. For example:\n",
    "\n",
    "domain_name(\"http://github.com/carbonfive/raygun\") == \"github\" \n",
    "domain_name(\"http://www.zombie-bites.com\") == \"zombie-bites\"\n",
    "domain_name(\"https://www.cnet.com\") == \"cnet\""
   ]
  },
  {
   "cell_type": "code",
   "execution_count": 38,
   "metadata": {},
   "outputs": [],
   "source": [
    "def domain_name(url):\n",
    "    if \"http://www.\" in url:\n",
    "        url1 = url.split(\"http://www.\")\n",
    "        url2 = url1[1].split(\".\")\n",
    "        result = url2[0]\n",
    "    elif \"www.\" in url:\n",
    "        url1 = url.split(\"www.\")\n",
    "        url2 = url1[1].split(\".\")\n",
    "        result = url2[0]\n",
    "    elif \"http://\" in url:\n",
    "        url1 = url.split(\"http://\")\n",
    "        url2 = url1[1].split(\".\")\n",
    "        url2[0]\n",
    "        result = url2[0]\n",
    "    elif \"https://www.\" in url:\n",
    "        url1 = url.split(\"https://www.\")\n",
    "        url2 = url1[1].split(\".\")\n",
    "        result = url2[0]\n",
    "    elif \"https://\" in url:\n",
    "        url1 = url.split(\"https://\")\n",
    "        url2 = url1[1].split(\".\")\n",
    "        result = url2[0]\n",
    "    else:\n",
    "        url1 = url.split(\".\")\n",
    "        result = url1[0]\n",
    "    return result"
   ]
  },
  {
   "cell_type": "code",
   "execution_count": 39,
   "metadata": {},
   "outputs": [
    {
     "data": {
      "text/plain": [
       "'icann'"
      ]
     },
     "execution_count": 39,
     "metadata": {},
     "output_type": "execute_result"
    }
   ],
   "source": [
    "domain_name(\"icann.org\")"
   ]
  },
  {
   "cell_type": "code",
   "execution_count": 31,
   "metadata": {},
   "outputs": [
    {
     "name": "stdout",
     "output_type": "stream",
     "text": [
      "cnet\n"
     ]
    }
   ],
   "source": [
    "url = \"https://www.cnet.com\"\n",
    "if \"http://www.\" in url:\n",
    "    url1 = url.split(\"http://www.\")\n",
    "    url2 = url1[1].split(\".\")\n",
    "    result = url2[0]\n",
    "elif \"www.\" in url:\n",
    "    url1 = url.split(\"www.\")\n",
    "    url2 = url1[1].split(\".\")\n",
    "    result = url2[0]\n",
    "elif \"http://\" in url:\n",
    "    url1 = url.split(\"http://\")\n",
    "    url2 = url1[1].split(\".\")\n",
    "    url2[0]\n",
    "    result = url2[0]\n",
    "elif \"https://www.\":\n",
    "    url1 = url.split(\"https://www.\")\n",
    "    url2 = url1[1].split(\".\")\n",
    "    result = url2[0]\n",
    "print(result)"
   ]
  },
  {
   "cell_type": "code",
   "execution_count": 22,
   "metadata": {},
   "outputs": [
    {
     "data": {
      "text/plain": [
       "'xakep'"
      ]
     },
     "execution_count": 22,
     "metadata": {},
     "output_type": "execute_result"
    }
   ],
   "source": [
    "url = \"www.xakep.ru\"\n",
    "url1 = url.split(\"http://\")\n",
    "url2 = url1[1].split(\".\")\n",
    "url2[0]\n",
    "print(url2[0])"
   ]
  },
  {
   "cell_type": "code",
   "execution_count": null,
   "metadata": {},
   "outputs": [],
   "source": []
  }
 ],
 "metadata": {
  "kernelspec": {
   "display_name": "Python 3",
   "language": "python",
   "name": "python3"
  },
  "language_info": {
   "codemirror_mode": {
    "name": "ipython",
    "version": 3
   },
   "file_extension": ".py",
   "mimetype": "text/x-python",
   "name": "python",
   "nbconvert_exporter": "python",
   "pygments_lexer": "ipython3",
   "version": "3.6.5"
  }
 },
 "nbformat": 4,
 "nbformat_minor": 2
}
